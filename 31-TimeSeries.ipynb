{
 "cells": [
  {
   "cell_type": "markdown",
   "metadata": {},
   "source": [
    "# Time-Series Evaluation & Forecasting"
   ]
  },
  {
   "cell_type": "code",
   "execution_count": 1,
   "metadata": {},
   "outputs": [],
   "source": [
    "import pandas as pd \n",
    "import numpy as np \n",
    "import matplotlib.pyplot as plt \n",
    "import pandas_datareader as pdr \n",
    "from statsmodels.tsa.holtwinters import SimpleExpSmoothing as ses ## for Single Exponential Smoothing\n",
    "%matplotlib inline"
   ]
  },
  {
   "cell_type": "code",
   "execution_count": 6,
   "metadata": {},
   "outputs": [],
   "source": [
    "# from jupyterthemes import jtplot\n",
    "# jtplot.style(theme='chesterish')"
   ]
  },
  {
   "cell_type": "markdown",
   "metadata": {},
   "source": [
    "## Get Data\n",
    "We can get data source by different ways:\n",
    "* By `.csv` file\n",
    "* By `pandas_datareader`"
   ]
  },
  {
   "cell_type": "code",
   "execution_count": 15,
   "metadata": {},
   "outputs": [
    {
     "data": {
      "text/html": [
       "<div>\n",
       "<style scoped>\n",
       "    .dataframe tbody tr th:only-of-type {\n",
       "        vertical-align: middle;\n",
       "    }\n",
       "\n",
       "    .dataframe tbody tr th {\n",
       "        vertical-align: top;\n",
       "    }\n",
       "\n",
       "    .dataframe thead th {\n",
       "        text-align: right;\n",
       "    }\n",
       "</style>\n",
       "<table border=\"1\" class=\"dataframe\">\n",
       "  <thead>\n",
       "    <tr style=\"text-align: right;\">\n",
       "      <th></th>\n",
       "      <th>Date</th>\n",
       "      <th>Open</th>\n",
       "      <th>High</th>\n",
       "      <th>Low</th>\n",
       "      <th>Close</th>\n",
       "      <th>Adj Close</th>\n",
       "      <th>Volume</th>\n",
       "    </tr>\n",
       "  </thead>\n",
       "  <tbody>\n",
       "    <tr>\n",
       "      <th>0</th>\n",
       "      <td>2018-07-03</td>\n",
       "      <td>140.649994</td>\n",
       "      <td>140.940002</td>\n",
       "      <td>139.369995</td>\n",
       "      <td>139.570007</td>\n",
       "      <td>133.189392</td>\n",
       "      <td>1963200</td>\n",
       "    </tr>\n",
       "    <tr>\n",
       "      <th>1</th>\n",
       "      <td>2018-07-05</td>\n",
       "      <td>140.479996</td>\n",
       "      <td>141.429993</td>\n",
       "      <td>139.929993</td>\n",
       "      <td>141.429993</td>\n",
       "      <td>134.964371</td>\n",
       "      <td>3744700</td>\n",
       "    </tr>\n",
       "    <tr>\n",
       "      <th>2</th>\n",
       "      <td>2018-07-06</td>\n",
       "      <td>141.529999</td>\n",
       "      <td>142.940002</td>\n",
       "      <td>141.169998</td>\n",
       "      <td>142.479996</td>\n",
       "      <td>135.966370</td>\n",
       "      <td>2849000</td>\n",
       "    </tr>\n",
       "    <tr>\n",
       "      <th>3</th>\n",
       "      <td>2018-07-09</td>\n",
       "      <td>142.589996</td>\n",
       "      <td>144.720001</td>\n",
       "      <td>142.470001</td>\n",
       "      <td>144.389999</td>\n",
       "      <td>137.789047</td>\n",
       "      <td>3904700</td>\n",
       "    </tr>\n",
       "    <tr>\n",
       "      <th>4</th>\n",
       "      <td>2018-07-10</td>\n",
       "      <td>144.509995</td>\n",
       "      <td>145.589996</td>\n",
       "      <td>144.259995</td>\n",
       "      <td>144.710007</td>\n",
       "      <td>138.094421</td>\n",
       "      <td>3777000</td>\n",
       "    </tr>\n",
       "  </tbody>\n",
       "</table>\n",
       "</div>"
      ],
      "text/plain": [
       "         Date        Open        High         Low       Close   Adj Close  \\\n",
       "0  2018-07-03  140.649994  140.940002  139.369995  139.570007  133.189392   \n",
       "1  2018-07-05  140.479996  141.429993  139.929993  141.429993  134.964371   \n",
       "2  2018-07-06  141.529999  142.940002  141.169998  142.479996  135.966370   \n",
       "3  2018-07-09  142.589996  144.720001  142.470001  144.389999  137.789047   \n",
       "4  2018-07-10  144.509995  145.589996  144.259995  144.710007  138.094421   \n",
       "\n",
       "    Volume  \n",
       "0  1963200  \n",
       "1  3744700  \n",
       "2  2849000  \n",
       "3  3904700  \n",
       "4  3777000  "
      ]
     },
     "execution_count": 15,
     "metadata": {},
     "output_type": "execute_result"
    }
   ],
   "source": [
    "## Import Time-Series from csv\n",
    "ibm_data = pd.read_csv('00-Data/ibm.csv')\n",
    "ibm_data.head()"
   ]
  },
  {
   "cell_type": "code",
   "execution_count": 31,
   "metadata": {},
   "outputs": [
    {
     "data": {
      "image/png": "[encoded data removed]",
      "text/plain": [
       "<Figure size 576x345.6 with 1 Axes>"
      ]
     },
     "metadata": {},
     "output_type": "display_data"
    }
   ],
   "source": [
    "ts_ibm = ibm_data.Close\n",
    "ts_ibm.index = pd.to_datetime(ibm_data.Date)\n",
    "plt.plot(ts_ibm)\n",
    "jtplot.style(ticks=True, grid=False, figsize=(10, 6));"
   ]
  },
  {
   "cell_type": "code",
   "execution_count": 34,
   "metadata": {},
   "outputs": [
    {
     "data": {
      "text/html": [
       "<div>\n",
       "<style scoped>\n",
       "    .dataframe tbody tr th:only-of-type {\n",
       "        vertical-align: middle;\n",
       "    }\n",
       "\n",
       "    .dataframe tbody tr th {\n",
       "        vertical-align: top;\n",
       "    }\n",
       "\n",
       "    .dataframe thead th {\n",
       "        text-align: right;\n",
       "    }\n",
       "</style>\n",
       "<table border=\"1\" class=\"dataframe\">\n",
       "  <thead>\n",
       "    <tr style=\"text-align: right;\">\n",
       "      <th></th>\n",
       "      <th>High</th>\n",
       "      <th>Low</th>\n",
       "      <th>Open</th>\n",
       "      <th>Close</th>\n",
       "      <th>Volume</th>\n",
       "    </tr>\n",
       "    <tr>\n",
       "      <th>Date</th>\n",
       "      <th></th>\n",
       "      <th></th>\n",
       "      <th></th>\n",
       "      <th></th>\n",
       "      <th></th>\n",
       "    </tr>\n",
       "  </thead>\n",
       "  <tbody>\n",
       "    <tr>\n",
       "      <th>2018-07-02</th>\n",
       "      <td>118.21</td>\n",
       "      <td>117.40</td>\n",
       "      <td>118.18</td>\n",
       "      <td>117.46</td>\n",
       "      <td>12021900</td>\n",
       "    </tr>\n",
       "    <tr>\n",
       "      <th>2018-07-03</th>\n",
       "      <td>119.08</td>\n",
       "      <td>118.38</td>\n",
       "      <td>118.41</td>\n",
       "      <td>118.65</td>\n",
       "      <td>8901000</td>\n",
       "    </tr>\n",
       "    <tr>\n",
       "      <th>2018-07-05</th>\n",
       "      <td>119.33</td>\n",
       "      <td>118.77</td>\n",
       "      <td>118.92</td>\n",
       "      <td>119.05</td>\n",
       "      <td>4951900</td>\n",
       "    </tr>\n",
       "    <tr>\n",
       "      <th>2018-07-06</th>\n",
       "      <td>119.03</td>\n",
       "      <td>118.73</td>\n",
       "      <td>118.97</td>\n",
       "      <td>118.86</td>\n",
       "      <td>2946900</td>\n",
       "    </tr>\n",
       "    <tr>\n",
       "      <th>2018-07-09</th>\n",
       "      <td>119.73</td>\n",
       "      <td>119.14</td>\n",
       "      <td>119.65</td>\n",
       "      <td>119.15</td>\n",
       "      <td>4074900</td>\n",
       "    </tr>\n",
       "  </tbody>\n",
       "</table>\n",
       "</div>"
      ],
      "text/plain": [
       "              High     Low    Open   Close    Volume\n",
       "Date                                                \n",
       "2018-07-02  118.21  117.40  118.18  117.46  12021900\n",
       "2018-07-03  119.08  118.38  118.41  118.65   8901000\n",
       "2018-07-05  119.33  118.77  118.92  119.05   4951900\n",
       "2018-07-06  119.03  118.73  118.97  118.86   2946900\n",
       "2018-07-09  119.73  119.14  119.65  119.15   4074900"
      ]
     },
     "execution_count": 34,
     "metadata": {},
     "output_type": "execute_result"
    }
   ],
   "source": [
    "## Get data by pandas_reader\n",
    "gld_df = pdr.get_data_yahoo('GLD', start='2018-07-01')\n",
    "gld_df = gld_df.drop(['Adj Close'], axis=1) ## Drop the column\n",
    "gld_df = round(gld_df, 2)\n",
    "gld_df.head()"
   ]
  },
  {
   "cell_type": "code",
   "execution_count": 49,
   "metadata": {},
   "outputs": [
    {
     "data": {
      "image/png": "[encoded data removed]",
      "text/plain": [
       "<Figure size 576x345.6 with 1 Axes>"
      ]
     },
     "metadata": {},
     "output_type": "display_data"
    }
   ],
   "source": [
    "## Compare two time-series by graphics\n",
    "ts_gld = gld_df.Close\n",
    "plt.plot(ts_ibm, label = 'ibm')\n",
    "plt.plot(ts_gld, label = 'GLD')\n",
    "plt.legend(loc=4);"
   ]
  },
  {
   "cell_type": "markdown",
   "metadata": {},
   "source": [
    "## Manipulate Time-series\n",
    "* Aggregate by frequencies\n",
    "* Take the lag"
   ]
  },
  {
   "cell_type": "code",
   "execution_count": 63,
   "metadata": {},
   "outputs": [
    {
     "data": {
      "text/html": [
       "<div>\n",
       "<style scoped>\n",
       "    .dataframe tbody tr th:only-of-type {\n",
       "        vertical-align: middle;\n",
       "    }\n",
       "\n",
       "    .dataframe tbody tr th {\n",
       "        vertical-align: top;\n",
       "    }\n",
       "\n",
       "    .dataframe thead th {\n",
       "        text-align: right;\n",
       "    }\n",
       "</style>\n",
       "<table border=\"1\" class=\"dataframe\">\n",
       "  <thead>\n",
       "    <tr style=\"text-align: right;\">\n",
       "      <th></th>\n",
       "      <th>High</th>\n",
       "      <th>Low</th>\n",
       "      <th>Open</th>\n",
       "      <th>Close</th>\n",
       "      <th>Volume</th>\n",
       "      <th>Adj Close</th>\n",
       "    </tr>\n",
       "    <tr>\n",
       "      <th>Date</th>\n",
       "      <th></th>\n",
       "      <th></th>\n",
       "      <th></th>\n",
       "      <th></th>\n",
       "      <th></th>\n",
       "      <th></th>\n",
       "    </tr>\n",
       "  </thead>\n",
       "  <tbody>\n",
       "    <tr>\n",
       "      <th>2013-01-31</th>\n",
       "      <td>161.81</td>\n",
       "      <td>160.47</td>\n",
       "      <td>161.62</td>\n",
       "      <td>161.20</td>\n",
       "      <td>9334000</td>\n",
       "      <td>161.20</td>\n",
       "    </tr>\n",
       "    <tr>\n",
       "      <th>2013-02-28</th>\n",
       "      <td>154.16</td>\n",
       "      <td>152.39</td>\n",
       "      <td>154.09</td>\n",
       "      <td>153.00</td>\n",
       "      <td>14864400</td>\n",
       "      <td>153.00</td>\n",
       "    </tr>\n",
       "    <tr>\n",
       "      <th>2013-03-29</th>\n",
       "      <td>154.80</td>\n",
       "      <td>154.22</td>\n",
       "      <td>154.50</td>\n",
       "      <td>154.45</td>\n",
       "      <td>6851200</td>\n",
       "      <td>154.45</td>\n",
       "    </tr>\n",
       "    <tr>\n",
       "      <th>2013-04-30</th>\n",
       "      <td>142.83</td>\n",
       "      <td>141.55</td>\n",
       "      <td>142.27</td>\n",
       "      <td>142.77</td>\n",
       "      <td>11284400</td>\n",
       "      <td>142.77</td>\n",
       "    </tr>\n",
       "    <tr>\n",
       "      <th>2013-05-31</th>\n",
       "      <td>136.05</td>\n",
       "      <td>133.89</td>\n",
       "      <td>135.71</td>\n",
       "      <td>133.92</td>\n",
       "      <td>9726600</td>\n",
       "      <td>133.92</td>\n",
       "    </tr>\n",
       "  </tbody>\n",
       "</table>\n",
       "</div>"
      ],
      "text/plain": [
       "              High     Low    Open   Close    Volume  Adj Close\n",
       "Date                                                           \n",
       "2013-01-31  161.81  160.47  161.62  161.20   9334000     161.20\n",
       "2013-02-28  154.16  152.39  154.09  153.00  14864400     153.00\n",
       "2013-03-29  154.80  154.22  154.50  154.45   6851200     154.45\n",
       "2013-04-30  142.83  141.55  142.27  142.77  11284400     142.77\n",
       "2013-05-31  136.05  133.89  135.71  133.92   9726600     133.92"
      ]
     },
     "execution_count": 63,
     "metadata": {},
     "output_type": "execute_result"
    }
   ],
   "source": [
    "gld_df = pdr.get_data_yahoo('GLD', start='2013-01-01')\n",
    "gld_df = round(gld_df, 2)\n",
    "## Aggregate by Month\n",
    "gld_df.index = pd.DatetimeIndex(gld_df.index)\n",
    "monthly = gld_df.resample('BM').last() ## resample is an aggregate operation, take BM: Business Month\n",
    "monthly.head()"
   ]
  },
  {
   "cell_type": "code",
   "execution_count": 67,
   "metadata": {},
   "outputs": [
    {
     "data": {
      "image/png": "[encoded data removed]",
      "text/plain": [
       "<Figure size 576x345.6 with 1 Axes>"
      ]
     },
     "metadata": {},
     "output_type": "display_data"
    }
   ],
   "source": [
    "plt.plot(gld_df.Close);"
   ]
  },
  {
   "cell_type": "code",
   "execution_count": 64,
   "metadata": {},
   "outputs": [
    {
     "data": {
      "image/png": "[encoded data removed]",
      "text/plain": [
       "<Figure size 576x345.6 with 1 Axes>"
      ]
     },
     "metadata": {},
     "output_type": "display_data"
    }
   ],
   "source": [
    "plt.plot(monthly.Close); ## after aggregating by month, we have something less noisy"
   ]
  },
  {
   "cell_type": "code",
   "execution_count": 68,
   "metadata": {},
   "outputs": [
    {
     "data": {
      "text/html": [
       "<div>\n",
       "<style scoped>\n",
       "    .dataframe tbody tr th:only-of-type {\n",
       "        vertical-align: middle;\n",
       "    }\n",
       "\n",
       "    .dataframe tbody tr th {\n",
       "        vertical-align: top;\n",
       "    }\n",
       "\n",
       "    .dataframe thead th {\n",
       "        text-align: right;\n",
       "    }\n",
       "</style>\n",
       "<table border=\"1\" class=\"dataframe\">\n",
       "  <thead>\n",
       "    <tr style=\"text-align: right;\">\n",
       "      <th></th>\n",
       "      <th>High</th>\n",
       "      <th>Low</th>\n",
       "      <th>Open</th>\n",
       "      <th>Close</th>\n",
       "      <th>Volume</th>\n",
       "      <th>Adj Close</th>\n",
       "      <th>Change</th>\n",
       "    </tr>\n",
       "    <tr>\n",
       "      <th>Date</th>\n",
       "      <th></th>\n",
       "      <th></th>\n",
       "      <th></th>\n",
       "      <th></th>\n",
       "      <th></th>\n",
       "      <th></th>\n",
       "      <th></th>\n",
       "    </tr>\n",
       "  </thead>\n",
       "  <tbody>\n",
       "    <tr>\n",
       "      <th>2013-01-02</th>\n",
       "      <td>164.14</td>\n",
       "      <td>163.14</td>\n",
       "      <td>163.49</td>\n",
       "      <td>163.17</td>\n",
       "      <td>10431800</td>\n",
       "      <td>163.17</td>\n",
       "      <td>NaN</td>\n",
       "    </tr>\n",
       "    <tr>\n",
       "      <th>2013-01-03</th>\n",
       "      <td>162.88</td>\n",
       "      <td>160.83</td>\n",
       "      <td>162.48</td>\n",
       "      <td>161.20</td>\n",
       "      <td>16117500</td>\n",
       "      <td>161.20</td>\n",
       "      <td>-1.97</td>\n",
       "    </tr>\n",
       "    <tr>\n",
       "      <th>2013-01-04</th>\n",
       "      <td>160.63</td>\n",
       "      <td>158.89</td>\n",
       "      <td>159.52</td>\n",
       "      <td>160.44</td>\n",
       "      <td>19179800</td>\n",
       "      <td>160.44</td>\n",
       "      <td>-0.76</td>\n",
       "    </tr>\n",
       "    <tr>\n",
       "      <th>2013-01-07</th>\n",
       "      <td>159.96</td>\n",
       "      <td>159.15</td>\n",
       "      <td>159.36</td>\n",
       "      <td>159.43</td>\n",
       "      <td>9361800</td>\n",
       "      <td>159.43</td>\n",
       "      <td>-1.01</td>\n",
       "    </tr>\n",
       "    <tr>\n",
       "      <th>2013-01-08</th>\n",
       "      <td>160.99</td>\n",
       "      <td>160.01</td>\n",
       "      <td>160.46</td>\n",
       "      <td>160.56</td>\n",
       "      <td>7694800</td>\n",
       "      <td>160.56</td>\n",
       "      <td>1.13</td>\n",
       "    </tr>\n",
       "  </tbody>\n",
       "</table>\n",
       "</div>"
      ],
      "text/plain": [
       "              High     Low    Open   Close    Volume  Adj Close  Change\n",
       "Date                                                                   \n",
       "2013-01-02  164.14  163.14  163.49  163.17  10431800     163.17     NaN\n",
       "2013-01-03  162.88  160.83  162.48  161.20  16117500     161.20   -1.97\n",
       "2013-01-04  160.63  158.89  159.52  160.44  19179800     160.44   -0.76\n",
       "2013-01-07  159.96  159.15  159.36  159.43   9361800     159.43   -1.01\n",
       "2013-01-08  160.99  160.01  160.46  160.56   7694800     160.56    1.13"
      ]
     },
     "execution_count": 68,
     "metadata": {},
     "output_type": "execute_result"
    }
   ],
   "source": [
    "## Generate a variable with the degree of lag\n",
    "gld_df['Change'] = gld_df['Close'] - gld_df['Close'].shift()\n",
    "gld_df.head()"
   ]
  },
  {
   "cell_type": "code",
   "execution_count": 69,
   "metadata": {},
   "outputs": [
    {
     "data": {
      "text/html": [
       "<div>\n",
       "<style scoped>\n",
       "    .dataframe tbody tr th:only-of-type {\n",
       "        vertical-align: middle;\n",
       "    }\n",
       "\n",
       "    .dataframe tbody tr th {\n",
       "        vertical-align: top;\n",
       "    }\n",
       "\n",
       "    .dataframe thead th {\n",
       "        text-align: right;\n",
       "    }\n",
       "</style>\n",
       "<table border=\"1\" class=\"dataframe\">\n",
       "  <thead>\n",
       "    <tr style=\"text-align: right;\">\n",
       "      <th></th>\n",
       "      <th>High</th>\n",
       "      <th>Low</th>\n",
       "      <th>Open</th>\n",
       "      <th>Close</th>\n",
       "      <th>Volume</th>\n",
       "      <th>Adj Close</th>\n",
       "      <th>Change</th>\n",
       "      <th>LN_change</th>\n",
       "    </tr>\n",
       "    <tr>\n",
       "      <th>Date</th>\n",
       "      <th></th>\n",
       "      <th></th>\n",
       "      <th></th>\n",
       "      <th></th>\n",
       "      <th></th>\n",
       "      <th></th>\n",
       "      <th></th>\n",
       "      <th></th>\n",
       "    </tr>\n",
       "  </thead>\n",
       "  <tbody>\n",
       "    <tr>\n",
       "      <th>2013-01-02</th>\n",
       "      <td>164.14</td>\n",
       "      <td>163.14</td>\n",
       "      <td>163.49</td>\n",
       "      <td>163.17</td>\n",
       "      <td>10431800</td>\n",
       "      <td>163.17</td>\n",
       "      <td>NaN</td>\n",
       "      <td>NaN</td>\n",
       "    </tr>\n",
       "    <tr>\n",
       "      <th>2013-01-03</th>\n",
       "      <td>162.88</td>\n",
       "      <td>160.83</td>\n",
       "      <td>162.48</td>\n",
       "      <td>161.20</td>\n",
       "      <td>16117500</td>\n",
       "      <td>161.20</td>\n",
       "      <td>-1.97</td>\n",
       "      <td>-0.012147</td>\n",
       "    </tr>\n",
       "    <tr>\n",
       "      <th>2013-01-04</th>\n",
       "      <td>160.63</td>\n",
       "      <td>158.89</td>\n",
       "      <td>159.52</td>\n",
       "      <td>160.44</td>\n",
       "      <td>19179800</td>\n",
       "      <td>160.44</td>\n",
       "      <td>-0.76</td>\n",
       "      <td>-0.004726</td>\n",
       "    </tr>\n",
       "    <tr>\n",
       "      <th>2013-01-07</th>\n",
       "      <td>159.96</td>\n",
       "      <td>159.15</td>\n",
       "      <td>159.36</td>\n",
       "      <td>159.43</td>\n",
       "      <td>9361800</td>\n",
       "      <td>159.43</td>\n",
       "      <td>-1.01</td>\n",
       "      <td>-0.006315</td>\n",
       "    </tr>\n",
       "    <tr>\n",
       "      <th>2013-01-08</th>\n",
       "      <td>160.99</td>\n",
       "      <td>160.01</td>\n",
       "      <td>160.46</td>\n",
       "      <td>160.56</td>\n",
       "      <td>7694800</td>\n",
       "      <td>160.56</td>\n",
       "      <td>1.13</td>\n",
       "      <td>0.007063</td>\n",
       "    </tr>\n",
       "  </tbody>\n",
       "</table>\n",
       "</div>"
      ],
      "text/plain": [
       "              High     Low    Open   Close    Volume  Adj Close  Change  \\\n",
       "Date                                                                      \n",
       "2013-01-02  164.14  163.14  163.49  163.17  10431800     163.17     NaN   \n",
       "2013-01-03  162.88  160.83  162.48  161.20  16117500     161.20   -1.97   \n",
       "2013-01-04  160.63  158.89  159.52  160.44  19179800     160.44   -0.76   \n",
       "2013-01-07  159.96  159.15  159.36  159.43   9361800     159.43   -1.01   \n",
       "2013-01-08  160.99  160.01  160.46  160.56   7694800     160.56    1.13   \n",
       "\n",
       "            LN_change  \n",
       "Date                   \n",
       "2013-01-02        NaN  \n",
       "2013-01-03  -0.012147  \n",
       "2013-01-04  -0.004726  \n",
       "2013-01-07  -0.006315  \n",
       "2013-01-08   0.007063  "
      ]
     },
     "execution_count": 69,
     "metadata": {},
     "output_type": "execute_result"
    }
   ],
   "source": [
    "gld_df['LN_change'] = np.log(gld_df['Close']/gld_df['Close'].shift())\n",
    "gld_df.head()"
   ]
  },
  {
   "cell_type": "code",
   "execution_count": 70,
   "metadata": {},
   "outputs": [
    {
     "data": {
      "image/png": "[encoded data removed]",
      "text/plain": [
       "<Figure size 576x432 with 1 Axes>"
      ]
     },
     "metadata": {},
     "output_type": "display_data"
    }
   ],
   "source": [
    "plt.figure(figsize=(8,6))\n",
    "plt.hist(gld_df['LN_change'][1:], bins=50, edgecolor='black',density=True);"
   ]
  },
  {
   "cell_type": "code",
   "execution_count": 79,
   "metadata": {},
   "outputs": [
    {
     "data": {
      "text/html": [
       "<div>\n",
       "<style scoped>\n",
       "    .dataframe tbody tr th:only-of-type {\n",
       "        vertical-align: middle;\n",
       "    }\n",
       "\n",
       "    .dataframe tbody tr th {\n",
       "        vertical-align: top;\n",
       "    }\n",
       "\n",
       "    .dataframe thead th {\n",
       "        text-align: right;\n",
       "    }\n",
       "</style>\n",
       "<table border=\"1\" class=\"dataframe\">\n",
       "  <thead>\n",
       "    <tr style=\"text-align: right;\">\n",
       "      <th></th>\n",
       "      <th>High</th>\n",
       "      <th>Low</th>\n",
       "      <th>Open</th>\n",
       "      <th>Close</th>\n",
       "      <th>Volume</th>\n",
       "      <th>Adj Close</th>\n",
       "      <th>Change</th>\n",
       "      <th>LN_change</th>\n",
       "      <th>Daily Vol</th>\n",
       "      <th>Expect_Change</th>\n",
       "    </tr>\n",
       "    <tr>\n",
       "      <th>Date</th>\n",
       "      <th></th>\n",
       "      <th></th>\n",
       "      <th></th>\n",
       "      <th></th>\n",
       "      <th></th>\n",
       "      <th></th>\n",
       "      <th></th>\n",
       "      <th></th>\n",
       "      <th></th>\n",
       "      <th></th>\n",
       "    </tr>\n",
       "  </thead>\n",
       "  <tbody>\n",
       "    <tr>\n",
       "      <th>2013-06-11</th>\n",
       "      <td>133.51</td>\n",
       "      <td>132.24</td>\n",
       "      <td>132.31</td>\n",
       "      <td>133.25</td>\n",
       "      <td>7199300</td>\n",
       "      <td>133.25</td>\n",
       "      <td>-0.69</td>\n",
       "      <td>-0.005165</td>\n",
       "      <td>0.015264</td>\n",
       "      <td>-0.000079</td>\n",
       "    </tr>\n",
       "    <tr>\n",
       "      <th>2013-06-12</th>\n",
       "      <td>134.83</td>\n",
       "      <td>132.83</td>\n",
       "      <td>132.95</td>\n",
       "      <td>134.25</td>\n",
       "      <td>6550600</td>\n",
       "      <td>134.25</td>\n",
       "      <td>1.00</td>\n",
       "      <td>0.007477</td>\n",
       "      <td>0.015212</td>\n",
       "      <td>0.000114</td>\n",
       "    </tr>\n",
       "    <tr>\n",
       "      <th>2013-06-13</th>\n",
       "      <td>134.20</td>\n",
       "      <td>132.82</td>\n",
       "      <td>133.31</td>\n",
       "      <td>133.74</td>\n",
       "      <td>7161800</td>\n",
       "      <td>133.74</td>\n",
       "      <td>-0.51</td>\n",
       "      <td>-0.003806</td>\n",
       "      <td>0.015283</td>\n",
       "      <td>-0.000058</td>\n",
       "    </tr>\n",
       "    <tr>\n",
       "      <th>2013-06-14</th>\n",
       "      <td>134.60</td>\n",
       "      <td>133.88</td>\n",
       "      <td>134.00</td>\n",
       "      <td>134.43</td>\n",
       "      <td>4278700</td>\n",
       "      <td>134.43</td>\n",
       "      <td>0.69</td>\n",
       "      <td>0.005146</td>\n",
       "      <td>0.015277</td>\n",
       "      <td>0.000079</td>\n",
       "    </tr>\n",
       "    <tr>\n",
       "      <th>2013-06-17</th>\n",
       "      <td>134.06</td>\n",
       "      <td>133.52</td>\n",
       "      <td>133.89</td>\n",
       "      <td>133.77</td>\n",
       "      <td>4072300</td>\n",
       "      <td>133.77</td>\n",
       "      <td>-0.66</td>\n",
       "      <td>-0.004922</td>\n",
       "      <td>0.014477</td>\n",
       "      <td>-0.000071</td>\n",
       "    </tr>\n",
       "  </tbody>\n",
       "</table>\n",
       "</div>"
      ],
      "text/plain": [
       "              High     Low    Open   Close   Volume  Adj Close  Change  \\\n",
       "Date                                                                     \n",
       "2013-06-11  133.51  132.24  132.31  133.25  7199300     133.25   -0.69   \n",
       "2013-06-12  134.83  132.83  132.95  134.25  6550600     134.25    1.00   \n",
       "2013-06-13  134.20  132.82  133.31  133.74  7161800     133.74   -0.51   \n",
       "2013-06-14  134.60  133.88  134.00  134.43  4278700     134.43    0.69   \n",
       "2013-06-17  134.06  133.52  133.89  133.77  4072300     133.77   -0.66   \n",
       "\n",
       "            LN_change  Daily Vol  Expect_Change  \n",
       "Date                                             \n",
       "2013-06-11  -0.005165   0.015264      -0.000079  \n",
       "2013-06-12   0.007477   0.015212       0.000114  \n",
       "2013-06-13  -0.003806   0.015283      -0.000058  \n",
       "2013-06-14   0.005146   0.015277       0.000079  \n",
       "2013-06-17  -0.004922   0.014477      -0.000071  "
      ]
     },
     "execution_count": 79,
     "metadata": {},
     "output_type": "execute_result"
    }
   ],
   "source": [
    "## Daily Volatility: Looking at the ln_change std of previous month\n",
    "gld_df['Daily Vol'] = gld_df['LN_change'].rolling(21).std().shift() ## rolling is another aggregator, taking the window of n periods\n",
    "## Expected change of price\n",
    "gld_df['Expect_Change'] = gld_df['LN_change'] * gld_df['Daily Vol']\n",
    "## Clean up\n",
    "gld_df = gld_df[22:]\n",
    "gld_df.head()"
   ]
  },
  {
   "cell_type": "markdown",
   "metadata": {},
   "source": [
    "## Moving Average Forecasting\n",
    "This replies on the assumption that tomorrow would be very similar to today, so we could expect the value of tomorrow, by the average of k-period most recent window.\n",
    "$$\\hat{y}^{MA}_{t+1} = Avg^t_{t-k}(y_i)$$"
   ]
  },
  {
   "cell_type": "code",
   "execution_count": 105,
   "metadata": {},
   "outputs": [],
   "source": [
    "def MA_forecast(df, window=5):\n",
    "    df['MA_Close'] = df['Close'].rolling(window).mean().shift()\n",
    "    ## Metrics of Errors\n",
    "    MAD = np.mean(np.abs(df['MA_Close'] - df['Close']))\n",
    "    MAPE = np.mean((np.abs(df['MA_Close'] - df['Close']))/df['Close'])\n",
    "    MSE = MAD**2\n",
    "    RMSE = np.sqrt(MSE)\n",
    "    ## Summary Output\n",
    "    error_summary = pd.Series({'MA window': window, 'MSE': MSE, 'RMSE': RMSE, 'MAPE': MAPE})\n",
    "    return error_summary, df"
   ]
  },
  {
   "cell_type": "code",
   "execution_count": 106,
   "metadata": {},
   "outputs": [
    {
     "data": {
      "text/html": [
       "<div>\n",
       "<style scoped>\n",
       "    .dataframe tbody tr th:only-of-type {\n",
       "        vertical-align: middle;\n",
       "    }\n",
       "\n",
       "    .dataframe tbody tr th {\n",
       "        vertical-align: top;\n",
       "    }\n",
       "\n",
       "    .dataframe thead th {\n",
       "        text-align: right;\n",
       "    }\n",
       "</style>\n",
       "<table border=\"1\" class=\"dataframe\">\n",
       "  <thead>\n",
       "    <tr style=\"text-align: right;\">\n",
       "      <th></th>\n",
       "      <th>MA window</th>\n",
       "      <th>MSE</th>\n",
       "      <th>RMSE</th>\n",
       "      <th>MAPE</th>\n",
       "    </tr>\n",
       "  </thead>\n",
       "  <tbody>\n",
       "    <tr>\n",
       "      <th>0</th>\n",
       "      <td>1.0</td>\n",
       "      <td>0.579984</td>\n",
       "      <td>0.761567</td>\n",
       "      <td>0.006370</td>\n",
       "    </tr>\n",
       "    <tr>\n",
       "      <th>1</th>\n",
       "      <td>3.0</td>\n",
       "      <td>0.911135</td>\n",
       "      <td>0.954534</td>\n",
       "      <td>0.007975</td>\n",
       "    </tr>\n",
       "    <tr>\n",
       "      <th>2</th>\n",
       "      <td>5.0</td>\n",
       "      <td>1.353979</td>\n",
       "      <td>1.163606</td>\n",
       "      <td>0.009723</td>\n",
       "    </tr>\n",
       "    <tr>\n",
       "      <th>3</th>\n",
       "      <td>10.0</td>\n",
       "      <td>2.518554</td>\n",
       "      <td>1.586995</td>\n",
       "      <td>0.013284</td>\n",
       "    </tr>\n",
       "    <tr>\n",
       "      <th>4</th>\n",
       "      <td>15.0</td>\n",
       "      <td>3.564309</td>\n",
       "      <td>1.887938</td>\n",
       "      <td>0.015826</td>\n",
       "    </tr>\n",
       "  </tbody>\n",
       "</table>\n",
       "</div>"
      ],
      "text/plain": [
       "   MA window       MSE      RMSE      MAPE\n",
       "0        1.0  0.579984  0.761567  0.006370\n",
       "1        3.0  0.911135  0.954534  0.007975\n",
       "2        5.0  1.353979  1.163606  0.009723\n",
       "3       10.0  2.518554  1.586995  0.013284\n",
       "4       15.0  3.564309  1.887938  0.015826"
      ]
     },
     "execution_count": 106,
     "metadata": {},
     "output_type": "execute_result"
    }
   ],
   "source": [
    "## compare peformances\n",
    "summary_out = []\n",
    "for w in [1, 3, 5, 10, 15]:\n",
    "    summary, out = MA_forecast(gld_df, w)\n",
    "    summary_out.append(summary)\n",
    "summary_out = pd.DataFrame(summary_out)\n",
    "summary_out"
   ]
  },
  {
   "cell_type": "code",
   "execution_count": 113,
   "metadata": {},
   "outputs": [
    {
     "data": {
      "text/html": [
       "<div>\n",
       "<style scoped>\n",
       "    .dataframe tbody tr th:only-of-type {\n",
       "        vertical-align: middle;\n",
       "    }\n",
       "\n",
       "    .dataframe tbody tr th {\n",
       "        vertical-align: top;\n",
       "    }\n",
       "\n",
       "    .dataframe thead th {\n",
       "        text-align: right;\n",
       "    }\n",
       "</style>\n",
       "<table border=\"1\" class=\"dataframe\">\n",
       "  <thead>\n",
       "    <tr style=\"text-align: right;\">\n",
       "      <th></th>\n",
       "      <th>MA window</th>\n",
       "      <th>MSE</th>\n",
       "      <th>RMSE</th>\n",
       "      <th>MAPE</th>\n",
       "    </tr>\n",
       "  </thead>\n",
       "  <tbody>\n",
       "    <tr>\n",
       "      <th>0</th>\n",
       "      <td>1.0</td>\n",
       "      <td>0.579984</td>\n",
       "      <td>0.761567</td>\n",
       "      <td>0.006370</td>\n",
       "    </tr>\n",
       "    <tr>\n",
       "      <th>1</th>\n",
       "      <td>3.0</td>\n",
       "      <td>0.911135</td>\n",
       "      <td>0.954534</td>\n",
       "      <td>0.007975</td>\n",
       "    </tr>\n",
       "    <tr>\n",
       "      <th>2</th>\n",
       "      <td>5.0</td>\n",
       "      <td>1.353979</td>\n",
       "      <td>1.163606</td>\n",
       "      <td>0.009723</td>\n",
       "    </tr>\n",
       "    <tr>\n",
       "      <th>3</th>\n",
       "      <td>10.0</td>\n",
       "      <td>2.518554</td>\n",
       "      <td>1.586995</td>\n",
       "      <td>0.013284</td>\n",
       "    </tr>\n",
       "    <tr>\n",
       "      <th>4</th>\n",
       "      <td>15.0</td>\n",
       "      <td>3.564309</td>\n",
       "      <td>1.887938</td>\n",
       "      <td>0.015826</td>\n",
       "    </tr>\n",
       "  </tbody>\n",
       "</table>\n",
       "</div>"
      ],
      "text/plain": [
       "   MA window       MSE      RMSE      MAPE\n",
       "0        1.0  0.579984  0.761567  0.006370\n",
       "1        3.0  0.911135  0.954534  0.007975\n",
       "2        5.0  1.353979  1.163606  0.009723\n",
       "3       10.0  2.518554  1.586995  0.013284\n",
       "4       15.0  3.564309  1.887938  0.015826"
      ]
     },
     "execution_count": 113,
     "metadata": {},
     "output_type": "execute_result"
    }
   ],
   "source": [
    "## compare for ibm\n",
    "ibm_df = pdr.get_data_yahoo('IBM', start='2013-01-01')\n",
    "ibm_df = round(gld_df, 2)\n",
    "summary_out = []\n",
    "for w in [1, 3, 5, 10, 15]:\n",
    "    summary, out = MA_forecast(ibm_df, w)\n",
    "    summary_out.append(summary)\n",
    "summary_out = pd.DataFrame(summary_out)\n",
    "summary_out"
   ]
  },
  {
   "cell_type": "code",
   "execution_count": 116,
   "metadata": {},
   "outputs": [
    {
     "data": {
      "text/plain": [
       "MA window    30.000000\n",
       "MSE           6.377126\n",
       "RMSE          2.525297\n",
       "MAPE          0.021191\n",
       "dtype: float64"
      ]
     },
     "execution_count": 116,
     "metadata": {},
     "output_type": "execute_result"
    }
   ],
   "source": [
    "## Graphs to compare\n",
    "summary, gld_ma_forecast = MA_forecast(gld_df,window=30) \n",
    "summary"
   ]
  },
  {
   "cell_type": "code",
   "execution_count": 122,
   "metadata": {},
   "outputs": [
    {
     "data": {
      "image/png": "[encoded data removed]",
      "text/plain": [
       "<Figure size 720x432 with 1 Axes>"
      ]
     },
     "metadata": {
      "needs_background": "dark"
     },
     "output_type": "display_data"
    }
   ],
   "source": [
    "plt.figure(figsize=(10,6))\n",
    "plt.plot(gld_ma_forecast.Close, label='Actual')\n",
    "plt.plot(gld_ma_forecast.MA_Close, color='orange', label='MA Forecast');"
   ]
  },
  {
   "cell_type": "markdown",
   "metadata": {},
   "source": [
    "## Single Exponential Smoothing\n",
    "The idea is that the future forecast would be explained by the forecast for today, plus the difference between the observed and the forecast of today. \n",
    "$$F_{t+1} = (1-\\alpha)F_t + \\alpha A_{t} = F_t + \\alpha(A_t - F_t)$$\n",
    "* $F_{t+1}$ is the forecast at $t+1$\n",
    "* $F_t$ is the forecast at $t$\n",
    "* $A_t$ is the observed value at $t$\n",
    "* $\\alpha$ is the constant between 0 and 1, **smoothing constant**\n",
    "If the impact of noise is small, $\\alpha$ would be closer to 0."
   ]
  },
  {
   "cell_type": "code",
   "execution_count": 126,
   "metadata": {},
   "outputs": [
    {
     "data": {
      "text/html": [
       "<div>\n",
       "<style scoped>\n",
       "    .dataframe tbody tr th:only-of-type {\n",
       "        vertical-align: middle;\n",
       "    }\n",
       "\n",
       "    .dataframe tbody tr th {\n",
       "        vertical-align: top;\n",
       "    }\n",
       "\n",
       "    .dataframe thead th {\n",
       "        text-align: right;\n",
       "    }\n",
       "</style>\n",
       "<table border=\"1\" class=\"dataframe\">\n",
       "  <thead>\n",
       "    <tr style=\"text-align: right;\">\n",
       "      <th></th>\n",
       "      <th>High</th>\n",
       "      <th>Low</th>\n",
       "      <th>Open</th>\n",
       "      <th>Close</th>\n",
       "      <th>Volume</th>\n",
       "      <th>Adj Close</th>\n",
       "    </tr>\n",
       "    <tr>\n",
       "      <th>Date</th>\n",
       "      <th></th>\n",
       "      <th></th>\n",
       "      <th></th>\n",
       "      <th></th>\n",
       "      <th></th>\n",
       "      <th></th>\n",
       "    </tr>\n",
       "  </thead>\n",
       "  <tbody>\n",
       "    <tr>\n",
       "      <th>2019-06-16</th>\n",
       "      <td>127.629997</td>\n",
       "      <td>126.260002</td>\n",
       "      <td>127.209999</td>\n",
       "      <td>126.559998</td>\n",
       "      <td>9226100</td>\n",
       "      <td>126.559998</td>\n",
       "    </tr>\n",
       "    <tr>\n",
       "      <th>2019-06-23</th>\n",
       "      <td>132.169998</td>\n",
       "      <td>131.070007</td>\n",
       "      <td>131.770004</td>\n",
       "      <td>131.979996</td>\n",
       "      <td>15068000</td>\n",
       "      <td>131.979996</td>\n",
       "    </tr>\n",
       "    <tr>\n",
       "      <th>2019-06-30</th>\n",
       "      <td>133.339996</td>\n",
       "      <td>132.610001</td>\n",
       "      <td>133.050003</td>\n",
       "      <td>133.199997</td>\n",
       "      <td>8077000</td>\n",
       "      <td>133.199997</td>\n",
       "    </tr>\n",
       "    <tr>\n",
       "      <th>2019-07-07</th>\n",
       "      <td>132.320007</td>\n",
       "      <td>130.809998</td>\n",
       "      <td>131.460007</td>\n",
       "      <td>132.139999</td>\n",
       "      <td>11536600</td>\n",
       "      <td>132.139999</td>\n",
       "    </tr>\n",
       "    <tr>\n",
       "      <th>2019-07-14</th>\n",
       "      <td>133.690002</td>\n",
       "      <td>132.529999</td>\n",
       "      <td>132.889999</td>\n",
       "      <td>133.529999</td>\n",
       "      <td>6308600</td>\n",
       "      <td>133.529999</td>\n",
       "    </tr>\n",
       "  </tbody>\n",
       "</table>\n",
       "</div>"
      ],
      "text/plain": [
       "                  High         Low        Open       Close    Volume  \\\n",
       "Date                                                                   \n",
       "2019-06-16  127.629997  126.260002  127.209999  126.559998   9226100   \n",
       "2019-06-23  132.169998  131.070007  131.770004  131.979996  15068000   \n",
       "2019-06-30  133.339996  132.610001  133.050003  133.199997   8077000   \n",
       "2019-07-07  132.320007  130.809998  131.460007  132.139999  11536600   \n",
       "2019-07-14  133.690002  132.529999  132.889999  133.529999   6308600   \n",
       "\n",
       "             Adj Close  \n",
       "Date                    \n",
       "2019-06-16  126.559998  \n",
       "2019-06-23  131.979996  \n",
       "2019-06-30  133.199997  \n",
       "2019-07-07  132.139999  \n",
       "2019-07-14  133.529999  "
      ]
     },
     "execution_count": 126,
     "metadata": {},
     "output_type": "execute_result"
    }
   ],
   "source": [
    "gld_df = pdr.get_data_yahoo('GLD', start='2013-01-01')\n",
    "gld_week = gld_df.resample('W').last()\n",
    "gld_week.tail()"
   ]
  },
  {
   "cell_type": "code",
   "execution_count": 127,
   "metadata": {},
   "outputs": [
    {
     "name": "stderr",
     "output_type": "stream",
     "text": [
      "/Users/anh.dang/anaconda3/lib/python3.7/site-packages/statsmodels/tsa/holtwinters.py:427: FutureWarning: Addition/subtraction of integers and integer-arrays to Timestamp is deprecated, will be removed in a future version.  Instead of adding/subtracting `n`, use `n * self.freq`\n",
      "  start = self._index[-1] + 1\n",
      "/Users/anh.dang/anaconda3/lib/python3.7/site-packages/statsmodels/tsa/base/tsa_model.py:336: FutureWarning: Creating a DatetimeIndex by passing range endpoints is deprecated.  Use `pandas.date_range` instead.\n",
      "  freq=base_index.freq)\n",
      "/Users/anh.dang/anaconda3/lib/python3.7/site-packages/statsmodels/tsa/base/tsa_model.py:320: FutureWarning: Creating a DatetimeIndex by passing range endpoints is deprecated.  Use `pandas.date_range` instead.\n",
      "  freq=base_index.freq)\n"
     ]
    },
    {
     "data": {
      "text/plain": [
       "2019-07-21    133.529999\n",
       "Freq: W-SUN, dtype: float64"
      ]
     },
     "execution_count": 127,
     "metadata": {},
     "output_type": "execute_result"
    }
   ],
   "source": [
    "## Simple Exponential Smoothing model\n",
    "model = ses(gld_week['Close'])\n",
    "model_fit = model.fit()\n",
    "model_fit.predict()"
   ]
  },
  {
   "cell_type": "code",
   "execution_count": 138,
   "metadata": {},
   "outputs": [
    {
     "data": {
      "text/plain": [
       "{'smoothing_level': 1.0,\n",
       " 'smoothing_slope': nan,\n",
       " 'smoothing_seasonal': nan,\n",
       " 'damping_slope': nan,\n",
       " 'initial_level': 160.44000244140625,\n",
       " 'initial_slope': nan,\n",
       " 'initial_seasons': array([], dtype=float64),\n",
       " 'use_boxcox': False,\n",
       " 'lamda': None,\n",
       " 'remove_bias': False}"
      ]
     },
     "execution_count": 138,
     "metadata": {},
     "output_type": "execute_result"
    }
   ],
   "source": [
    "## SES parameters\n",
    "model_fit.params ## alpha = 1"
   ]
  },
  {
   "cell_type": "code",
   "execution_count": 133,
   "metadata": {},
   "outputs": [
    {
     "data": {
      "text/plain": [
       "[<matplotlib.lines.Line2D at 0x1a33fcc0f0>]"
      ]
     },
     "execution_count": 133,
     "metadata": {},
     "output_type": "execute_result"
    },
    {
     "data": {
      "image/png": "[encoded data removed]",
      "text/plain": [
       "<Figure size 720x432 with 1 Axes>"
      ]
     },
     "metadata": {
      "needs_background": "dark"
     },
     "output_type": "display_data"
    }
   ],
   "source": [
    "y_hat = model_fit.fittedvalues\n",
    "plt.figure(figsize=(10,6))\n",
    "plt.plot(gld_week['Close'], label='Actual')\n",
    "plt.plot(y_hat, label='Simple Exponential Smoothing')"
   ]
  },
  {
   "cell_type": "code",
   "execution_count": 137,
   "metadata": {},
   "outputs": [
    {
     "data": {
      "text/html": [
       "<div>\n",
       "<style scoped>\n",
       "    .dataframe tbody tr th:only-of-type {\n",
       "        vertical-align: middle;\n",
       "    }\n",
       "\n",
       "    .dataframe tbody tr th {\n",
       "        vertical-align: top;\n",
       "    }\n",
       "\n",
       "    .dataframe thead th {\n",
       "        text-align: right;\n",
       "    }\n",
       "</style>\n",
       "<table border=\"1\" class=\"dataframe\">\n",
       "  <thead>\n",
       "    <tr style=\"text-align: right;\">\n",
       "      <th></th>\n",
       "      <th>Actual</th>\n",
       "      <th>Predict</th>\n",
       "    </tr>\n",
       "    <tr>\n",
       "      <th>Date</th>\n",
       "      <th></th>\n",
       "      <th></th>\n",
       "    </tr>\n",
       "  </thead>\n",
       "  <tbody>\n",
       "    <tr>\n",
       "      <th>2013-01-06</th>\n",
       "      <td>160.440002</td>\n",
       "      <td>160.440002</td>\n",
       "    </tr>\n",
       "    <tr>\n",
       "      <th>2013-01-13</th>\n",
       "      <td>161.059998</td>\n",
       "      <td>160.440002</td>\n",
       "    </tr>\n",
       "    <tr>\n",
       "      <th>2013-01-20</th>\n",
       "      <td>163.089996</td>\n",
       "      <td>161.059998</td>\n",
       "    </tr>\n",
       "    <tr>\n",
       "      <th>2013-01-27</th>\n",
       "      <td>160.649994</td>\n",
       "      <td>163.089996</td>\n",
       "    </tr>\n",
       "    <tr>\n",
       "      <th>2013-02-03</th>\n",
       "      <td>161.449997</td>\n",
       "      <td>160.649994</td>\n",
       "    </tr>\n",
       "    <tr>\n",
       "      <th>2013-02-10</th>\n",
       "      <td>161.570007</td>\n",
       "      <td>161.449997</td>\n",
       "    </tr>\n",
       "    <tr>\n",
       "      <th>2013-02-17</th>\n",
       "      <td>155.759995</td>\n",
       "      <td>161.570007</td>\n",
       "    </tr>\n",
       "    <tr>\n",
       "      <th>2013-02-24</th>\n",
       "      <td>152.970001</td>\n",
       "      <td>155.759995</td>\n",
       "    </tr>\n",
       "    <tr>\n",
       "      <th>2013-03-03</th>\n",
       "      <td>152.440002</td>\n",
       "      <td>152.970001</td>\n",
       "    </tr>\n",
       "    <tr>\n",
       "      <th>2013-03-10</th>\n",
       "      <td>152.710007</td>\n",
       "      <td>152.440002</td>\n",
       "    </tr>\n",
       "  </tbody>\n",
       "</table>\n",
       "</div>"
      ],
      "text/plain": [
       "                Actual     Predict\n",
       "Date                              \n",
       "2013-01-06  160.440002  160.440002\n",
       "2013-01-13  161.059998  160.440002\n",
       "2013-01-20  163.089996  161.059998\n",
       "2013-01-27  160.649994  163.089996\n",
       "2013-02-03  161.449997  160.649994\n",
       "2013-02-10  161.570007  161.449997\n",
       "2013-02-17  155.759995  161.570007\n",
       "2013-02-24  152.970001  155.759995\n",
       "2013-03-03  152.440002  152.970001\n",
       "2013-03-10  152.710007  152.440002"
      ]
     },
     "execution_count": 137,
     "metadata": {},
     "output_type": "execute_result"
    }
   ],
   "source": [
    "pd.DataFrame({'Actual': gld_week['Close'], 'Predict': y_hat}).head(10)"
   ]
  },
  {
   "cell_type": "code",
   "execution_count": 147,
   "metadata": {},
   "outputs": [
    {
     "data": {
      "text/html": [
       "<div>\n",
       "<style scoped>\n",
       "    .dataframe tbody tr th:only-of-type {\n",
       "        vertical-align: middle;\n",
       "    }\n",
       "\n",
       "    .dataframe tbody tr th {\n",
       "        vertical-align: top;\n",
       "    }\n",
       "\n",
       "    .dataframe thead th {\n",
       "        text-align: right;\n",
       "    }\n",
       "</style>\n",
       "<table border=\"1\" class=\"dataframe\">\n",
       "  <thead>\n",
       "    <tr style=\"text-align: right;\">\n",
       "      <th></th>\n",
       "      <th>alpha</th>\n",
       "      <th>MSE</th>\n",
       "    </tr>\n",
       "  </thead>\n",
       "  <tbody>\n",
       "    <tr>\n",
       "      <th>0</th>\n",
       "      <td>0.1</td>\n",
       "      <td>28.088795</td>\n",
       "    </tr>\n",
       "    <tr>\n",
       "      <th>1</th>\n",
       "      <td>0.2</td>\n",
       "      <td>15.993624</td>\n",
       "    </tr>\n",
       "    <tr>\n",
       "      <th>2</th>\n",
       "      <td>0.3</td>\n",
       "      <td>11.553271</td>\n",
       "    </tr>\n",
       "    <tr>\n",
       "      <th>3</th>\n",
       "      <td>0.4</td>\n",
       "      <td>9.332848</td>\n",
       "    </tr>\n",
       "    <tr>\n",
       "      <th>4</th>\n",
       "      <td>0.5</td>\n",
       "      <td>8.036416</td>\n",
       "    </tr>\n",
       "    <tr>\n",
       "      <th>5</th>\n",
       "      <td>0.6</td>\n",
       "      <td>7.204227</td>\n",
       "    </tr>\n",
       "    <tr>\n",
       "      <th>6</th>\n",
       "      <td>0.7</td>\n",
       "      <td>6.637633</td>\n",
       "    </tr>\n",
       "    <tr>\n",
       "      <th>7</th>\n",
       "      <td>0.8</td>\n",
       "      <td>6.240879</td>\n",
       "    </tr>\n",
       "    <tr>\n",
       "      <th>8</th>\n",
       "      <td>0.9</td>\n",
       "      <td>5.965184</td>\n",
       "    </tr>\n",
       "    <tr>\n",
       "      <th>9</th>\n",
       "      <td>1.0</td>\n",
       "      <td>5.786173</td>\n",
       "    </tr>\n",
       "    <tr>\n",
       "      <th>10</th>\n",
       "      <td>1.1</td>\n",
       "      <td>5.694163</td>\n",
       "    </tr>\n",
       "    <tr>\n",
       "      <th>11</th>\n",
       "      <td>1.2</td>\n",
       "      <td>5.690442</td>\n",
       "    </tr>\n",
       "    <tr>\n",
       "      <th>12</th>\n",
       "      <td>1.3</td>\n",
       "      <td>5.787454</td>\n",
       "    </tr>\n",
       "    <tr>\n",
       "      <th>13</th>\n",
       "      <td>1.4</td>\n",
       "      <td>6.013237</td>\n",
       "    </tr>\n",
       "    <tr>\n",
       "      <th>14</th>\n",
       "      <td>1.5</td>\n",
       "      <td>6.423319</td>\n",
       "    </tr>\n",
       "  </tbody>\n",
       "</table>\n",
       "</div>"
      ],
      "text/plain": [
       "    alpha        MSE\n",
       "0     0.1  28.088795\n",
       "1     0.2  15.993624\n",
       "2     0.3  11.553271\n",
       "3     0.4   9.332848\n",
       "4     0.5   8.036416\n",
       "5     0.6   7.204227\n",
       "6     0.7   6.637633\n",
       "7     0.8   6.240879\n",
       "8     0.9   5.965184\n",
       "9     1.0   5.786173\n",
       "10    1.1   5.694163\n",
       "11    1.2   5.690442\n",
       "12    1.3   5.787454\n",
       "13    1.4   6.013237\n",
       "14    1.5   6.423319"
      ]
     },
     "execution_count": 147,
     "metadata": {},
     "output_type": "execute_result"
    }
   ],
   "source": [
    "## Let's see how it works\n",
    "alpha_values = pd.DataFrame({'alpha': np.zeros(15), 'MSE': np.zeros(15)})\n",
    "alpha = 0.1\n",
    "for i in range(15):\n",
    "    model = ses(gld_week['Close'])\n",
    "    gld_week['Forecast'] = model.fit(alpha).fittedvalues\n",
    "    gld_week['MSE'] = (gld_week['Close'] - gld_week['Forecast'])**2\n",
    "    alpha_values['alpha'][i] = alpha\n",
    "    alpha_values['MSE'][i] = gld_week['MSE'].mean() \n",
    "    alpha += 0.1 \n",
    "alpha_values"
   ]
  },
  {
   "cell_type": "code",
   "execution_count": 148,
   "metadata": {},
   "outputs": [
    {
     "data": {
      "text/plain": [
       "[<matplotlib.lines.Line2D at 0x1a366a1cc0>]"
      ]
     },
     "execution_count": 148,
     "metadata": {},
     "output_type": "execute_result"
    },
    {
     "data": {
      "image/png": "[encoded data removed]",
      "text/plain": [
       "<Figure size 432x288 with 1 Axes>"
      ]
     },
     "metadata": {
      "needs_background": "dark"
     },
     "output_type": "display_data"
    }
   ],
   "source": [
    "plt.plot(alpha_values.alpha, alpha_values.MSE) ## visually, we see the gain is flat from alpha - 1"
   ]
  },
  {
   "cell_type": "markdown",
   "metadata": {},
   "source": [
    "# Simple Trading System with Moving Average Signals\n",
    "How we use the time-series forecasting, to signal when to buy/sell a security. \n",
    "The buy-sell depends on the relative position of short-window MA, and long-window MA. We would expect that even short-window is noisy, it would convert to the long-window movements. Then: \n",
    "* When short is above long, we expect the price would decrease -> Should `SELL` now -> `Position = -1` \n",
    "* When short is below long, we expect the price would increase -> Should `BUY` now -> `Position = +1`\n",
    "* Earnings: `Position * Change`, if `Position = -1, Change < 0 (price decrease)` -> beneficial. And, vice versa."
   ]
  },
  {
   "cell_type": "code",
   "execution_count": 2,
   "metadata": {},
   "outputs": [],
   "source": [
    "## get data\n",
    "gld = pdr.get_data_yahoo('GLD', start='2013-01-01')\n",
    "gld.drop('Adj Close', axis=1, inplace=True) "
   ]
  },
  {
   "cell_type": "code",
   "execution_count": 4,
   "metadata": {},
   "outputs": [
    {
     "data": {
      "text/html": [
       "<div>\n",
       "<style scoped>\n",
       "    .dataframe tbody tr th:only-of-type {\n",
       "        vertical-align: middle;\n",
       "    }\n",
       "\n",
       "    .dataframe tbody tr th {\n",
       "        vertical-align: top;\n",
       "    }\n",
       "\n",
       "    .dataframe thead th {\n",
       "        text-align: right;\n",
       "    }\n",
       "</style>\n",
       "<table border=\"1\" class=\"dataframe\">\n",
       "  <thead>\n",
       "    <tr style=\"text-align: right;\">\n",
       "      <th></th>\n",
       "      <th>High</th>\n",
       "      <th>Low</th>\n",
       "      <th>Open</th>\n",
       "      <th>Close</th>\n",
       "      <th>Volume</th>\n",
       "      <th>9-day</th>\n",
       "      <th>21-day</th>\n",
       "      <th>Change</th>\n",
       "    </tr>\n",
       "    <tr>\n",
       "      <th>Date</th>\n",
       "      <th></th>\n",
       "      <th></th>\n",
       "      <th></th>\n",
       "      <th></th>\n",
       "      <th></th>\n",
       "      <th></th>\n",
       "      <th></th>\n",
       "      <th></th>\n",
       "    </tr>\n",
       "  </thead>\n",
       "  <tbody>\n",
       "    <tr>\n",
       "      <th>2019-07-09</th>\n",
       "      <td>132.100006</td>\n",
       "      <td>131.160004</td>\n",
       "      <td>131.429993</td>\n",
       "      <td>131.750000</td>\n",
       "      <td>6633400</td>\n",
       "      <td>132.427777</td>\n",
       "      <td>130.193809</td>\n",
       "      <td>0.003498</td>\n",
       "    </tr>\n",
       "    <tr>\n",
       "      <th>2019-07-10</th>\n",
       "      <td>133.869995</td>\n",
       "      <td>132.350006</td>\n",
       "      <td>132.940002</td>\n",
       "      <td>133.830002</td>\n",
       "      <td>13920600</td>\n",
       "      <td>132.523332</td>\n",
       "      <td>130.598571</td>\n",
       "      <td>0.015664</td>\n",
       "    </tr>\n",
       "    <tr>\n",
       "      <th>2019-07-11</th>\n",
       "      <td>133.699997</td>\n",
       "      <td>132.410004</td>\n",
       "      <td>133.580002</td>\n",
       "      <td>132.699997</td>\n",
       "      <td>7535100</td>\n",
       "      <td>132.507777</td>\n",
       "      <td>130.956666</td>\n",
       "      <td>-0.008479</td>\n",
       "    </tr>\n",
       "    <tr>\n",
       "      <th>2019-07-12</th>\n",
       "      <td>133.690002</td>\n",
       "      <td>132.529999</td>\n",
       "      <td>132.889999</td>\n",
       "      <td>133.529999</td>\n",
       "      <td>6308600</td>\n",
       "      <td>132.544444</td>\n",
       "      <td>131.323333</td>\n",
       "      <td>0.006235</td>\n",
       "    </tr>\n",
       "    <tr>\n",
       "      <th>2019-07-15</th>\n",
       "      <td>133.460007</td>\n",
       "      <td>132.809998</td>\n",
       "      <td>133.179993</td>\n",
       "      <td>133.201996</td>\n",
       "      <td>1868441</td>\n",
       "      <td>132.831333</td>\n",
       "      <td>131.637713</td>\n",
       "      <td>-0.002459</td>\n",
       "    </tr>\n",
       "  </tbody>\n",
       "</table>\n",
       "</div>"
      ],
      "text/plain": [
       "                  High         Low        Open       Close    Volume  \\\n",
       "Date                                                                   \n",
       "2019-07-09  132.100006  131.160004  131.429993  131.750000   6633400   \n",
       "2019-07-10  133.869995  132.350006  132.940002  133.830002  13920600   \n",
       "2019-07-11  133.699997  132.410004  133.580002  132.699997   7535100   \n",
       "2019-07-12  133.690002  132.529999  132.889999  133.529999   6308600   \n",
       "2019-07-15  133.460007  132.809998  133.179993  133.201996   1868441   \n",
       "\n",
       "                 9-day      21-day    Change  \n",
       "Date                                          \n",
       "2019-07-09  132.427777  130.193809  0.003498  \n",
       "2019-07-10  132.523332  130.598571  0.015664  \n",
       "2019-07-11  132.507777  130.956666 -0.008479  \n",
       "2019-07-12  132.544444  131.323333  0.006235  \n",
       "2019-07-15  132.831333  131.637713 -0.002459  "
      ]
     },
     "execution_count": 4,
     "metadata": {},
     "output_type": "execute_result"
    }
   ],
   "source": [
    "## Different short-window and long-window\n",
    "gld['9-day'] = gld['Close'].rolling(9).mean()\n",
    "gld['21-day'] = gld['Close'].rolling(21).mean()\n",
    "gld['Change'] = np.log(gld['Close']/gld['Close'].shift())\n",
    "gld.tail()"
   ]
  },
  {
   "cell_type": "code",
   "execution_count": 7,
   "metadata": {},
   "outputs": [
    {
     "data": {
      "text/plain": [
       "<matplotlib.legend.Legend at 0x1a2d504dd8>"
      ]
     },
     "execution_count": 7,
     "metadata": {},
     "output_type": "execute_result"
    },
    {
     "data": {
      "image/png": "[encoded data removed]",
      "text/plain": [
       "<Figure size 720x576 with 1 Axes>"
      ]
     },
     "metadata": {},
     "output_type": "display_data"
    }
   ],
   "source": [
    "## plot to see\n",
    "plt.figure(figsize=(10,8))\n",
    "plt.plot(gld.Close[-120:])\n",
    "plt.plot(gld['9-day'][-120:])\n",
    "plt.plot(gld['21-day'][-120:])\n",
    "plt.legend(loc=2)"
   ]
  },
  {
   "cell_type": "code",
   "execution_count": 15,
   "metadata": {},
   "outputs": [
    {
     "data": {
      "text/html": [
       "<div>\n",
       "<style scoped>\n",
       "    .dataframe tbody tr th:only-of-type {\n",
       "        vertical-align: middle;\n",
       "    }\n",
       "\n",
       "    .dataframe tbody tr th {\n",
       "        vertical-align: top;\n",
       "    }\n",
       "\n",
       "    .dataframe thead th {\n",
       "        text-align: right;\n",
       "    }\n",
       "</style>\n",
       "<table border=\"1\" class=\"dataframe\">\n",
       "  <thead>\n",
       "    <tr style=\"text-align: right;\">\n",
       "      <th></th>\n",
       "      <th>High</th>\n",
       "      <th>Low</th>\n",
       "      <th>Open</th>\n",
       "      <th>Close</th>\n",
       "      <th>Volume</th>\n",
       "      <th>9-day</th>\n",
       "      <th>21-day</th>\n",
       "      <th>Change</th>\n",
       "      <th>Position</th>\n",
       "      <th>position</th>\n",
       "    </tr>\n",
       "    <tr>\n",
       "      <th>Date</th>\n",
       "      <th></th>\n",
       "      <th></th>\n",
       "      <th></th>\n",
       "      <th></th>\n",
       "      <th></th>\n",
       "      <th></th>\n",
       "      <th></th>\n",
       "      <th></th>\n",
       "      <th></th>\n",
       "      <th></th>\n",
       "    </tr>\n",
       "  </thead>\n",
       "  <tbody>\n",
       "    <tr>\n",
       "      <th>2013-06-25</th>\n",
       "      <td>123.900002</td>\n",
       "      <td>122.879997</td>\n",
       "      <td>123.650002</td>\n",
       "      <td>123.470001</td>\n",
       "      <td>9369200</td>\n",
       "      <td>128.967779</td>\n",
       "      <td>132.293334</td>\n",
       "      <td>-0.003719</td>\n",
       "      <td>-1</td>\n",
       "      <td>-1</td>\n",
       "    </tr>\n",
       "    <tr>\n",
       "      <th>2013-06-26</th>\n",
       "      <td>119.900002</td>\n",
       "      <td>118.059998</td>\n",
       "      <td>119.879997</td>\n",
       "      <td>118.279999</td>\n",
       "      <td>24748800</td>\n",
       "      <td>127.250000</td>\n",
       "      <td>131.569047</td>\n",
       "      <td>-0.042944</td>\n",
       "      <td>-1</td>\n",
       "      <td>-1</td>\n",
       "    </tr>\n",
       "    <tr>\n",
       "      <th>2013-06-27</th>\n",
       "      <td>119.510002</td>\n",
       "      <td>115.650002</td>\n",
       "      <td>119.099998</td>\n",
       "      <td>115.940002</td>\n",
       "      <td>30001900</td>\n",
       "      <td>125.195557</td>\n",
       "      <td>130.669524</td>\n",
       "      <td>-0.019982</td>\n",
       "      <td>-1</td>\n",
       "      <td>-1</td>\n",
       "    </tr>\n",
       "    <tr>\n",
       "      <th>2013-06-28</th>\n",
       "      <td>119.330002</td>\n",
       "      <td>114.680000</td>\n",
       "      <td>115.220001</td>\n",
       "      <td>119.110001</td>\n",
       "      <td>32981900</td>\n",
       "      <td>123.566667</td>\n",
       "      <td>129.831905</td>\n",
       "      <td>0.026975</td>\n",
       "      <td>-1</td>\n",
       "      <td>-1</td>\n",
       "    </tr>\n",
       "    <tr>\n",
       "      <th>2013-07-01</th>\n",
       "      <td>121.949997</td>\n",
       "      <td>119.379997</td>\n",
       "      <td>119.940002</td>\n",
       "      <td>121.129997</td>\n",
       "      <td>15945200</td>\n",
       "      <td>122.344444</td>\n",
       "      <td>129.222857</td>\n",
       "      <td>0.016817</td>\n",
       "      <td>-1</td>\n",
       "      <td>-1</td>\n",
       "    </tr>\n",
       "  </tbody>\n",
       "</table>\n",
       "</div>"
      ],
      "text/plain": [
       "                  High         Low        Open       Close    Volume  \\\n",
       "Date                                                                   \n",
       "2013-06-25  123.900002  122.879997  123.650002  123.470001   9369200   \n",
       "2013-06-26  119.900002  118.059998  119.879997  118.279999  24748800   \n",
       "2013-06-27  119.510002  115.650002  119.099998  115.940002  30001900   \n",
       "2013-06-28  119.330002  114.680000  115.220001  119.110001  32981900   \n",
       "2013-07-01  121.949997  119.379997  119.940002  121.129997  15945200   \n",
       "\n",
       "                 9-day      21-day    Change  Position  position  \n",
       "Date                                                              \n",
       "2013-06-25  128.967779  132.293334 -0.003719        -1        -1  \n",
       "2013-06-26  127.250000  131.569047 -0.042944        -1        -1  \n",
       "2013-06-27  125.195557  130.669524 -0.019982        -1        -1  \n",
       "2013-06-28  123.566667  129.831905  0.026975        -1        -1  \n",
       "2013-07-01  122.344444  129.222857  0.016817        -1        -1  "
      ]
     },
     "execution_count": 15,
     "metadata": {},
     "output_type": "execute_result"
    }
   ],
   "source": [
    "## Trading Strategy\n",
    "gld['position'] = np.where(gld['9-day'] < gld['21-day'], -1,0) ## Sell\n",
    "gld['position'] = np.where(gld['9-day'] > gld['21-day'], 1, gld['Position']) ## Buy\n",
    "gld[120:].head()"
   ]
  },
  {
   "cell_type": "code",
   "execution_count": 17,
   "metadata": {},
   "outputs": [
    {
     "data": {
      "text/plain": [
       "<matplotlib.axes._subplots.AxesSubplot at 0x1a2f875860>"
      ]
     },
     "execution_count": 17,
     "metadata": {},
     "output_type": "execute_result"
    },
    {
     "data": {
      "image/png": "[encoded data removed]",
      "text/plain": [
       "<Figure size 460.8x403.2 with 1 Axes>"
      ]
     },
     "metadata": {},
     "output_type": "display_data"
    }
   ],
   "source": [
    "## Cumsum earnings\n",
    "gld['earn_ma_sys'] = gld['Change'] * gld['position']\n",
    "gld[['Change','earn_ma_sys']].cumsum().plot()"
   ]
  }
 ],
 "metadata": {
  "kernelspec": {
   "display_name": "Python 3",
   "language": "python",
   "name": "python3"
  },
  "language_info": {
   "codemirror_mode": {
    "name": "ipython",
    "version": 3
   },
   "file_extension": ".py",
   "mimetype": "text/x-python",
   "name": "python",
   "nbconvert_exporter": "python",
   "pygments_lexer": "ipython3",
   "version": "3.7.3"
  },
  "toc": {
   "base_numbering": 1,
   "nav_menu": {},
   "number_sections": true,
   "sideBar": false,
   "skip_h1_title": false,
   "title_cell": "Table of Contents",
   "title_sidebar": "Contents",
   "toc_cell": false,
   "toc_position": {
    "height": "821px",
    "left": "1426px",
    "top": "84px",
    "width": "384px"
   },
   "toc_section_display": true,
   "toc_window_display": false
  }
 },
 "nbformat": 4,
 "nbformat_minor": 2
}
