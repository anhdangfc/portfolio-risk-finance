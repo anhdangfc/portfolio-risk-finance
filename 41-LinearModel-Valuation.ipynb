{
 "cells": [
  {
   "cell_type": "markdown",
   "metadata": {},
   "source": [
    "# Linear Models, Correlation & Valuation"
   ]
  },
  {
   "cell_type": "code",
   "execution_count": 1,
   "metadata": {},
   "outputs": [],
   "source": [
    "# Import modules\n",
    "import os\n",
    "import pandas as pd\n",
    "import numpy as np\n",
    "import scipy as sp\n",
    "## Matplotlib\n",
    "import matplotlib.pyplot as plt\n",
    "import matplotlib.style as mps\n",
    "%matplotlib inline\n",
    "## Set-up jtplot \n",
    "# from jupyterthemes import jtplot\n",
    "# jtplot.style(theme='chesterish')\n",
    "# jtplot.style(ticks=True, grid=False, figsize=(8, 6))"
   ]
  },
  {
   "cell_type": "markdown",
   "metadata": {},
   "source": [
    "## Pricing Model to Valuate Securities"
   ]
  },
  {
   "cell_type": "code",
   "execution_count": 20,
   "metadata": {},
   "outputs": [
    {
     "name": "stdout",
     "output_type": "stream",
     "text": [
      "Expected Return: 0.19\n",
      "Prevent Valus: 152.60\n"
     ]
    }
   ],
   "source": [
    "# Expect return AAPL\n",
    "div = 2.92\n",
    "p0 = 152.6 \n",
    "p1 = 178.71 \n",
    "er = (p1 + div) / p0 \n",
    "print('Expected Return: {:.2f}'.format(er-1))\n",
    "pv = (p1 + div) / er\n",
    "print('Prevent Valus: {:.2f}'.format(pv))"
   ]
  },
  {
   "cell_type": "code",
   "execution_count": 27,
   "metadata": {},
   "outputs": [
    {
     "data": {
      "text/html": [
       "<div>\n",
       "<style scoped>\n",
       "    .dataframe tbody tr th:only-of-type {\n",
       "        vertical-align: middle;\n",
       "    }\n",
       "\n",
       "    .dataframe tbody tr th {\n",
       "        vertical-align: top;\n",
       "    }\n",
       "\n",
       "    .dataframe thead th {\n",
       "        text-align: right;\n",
       "    }\n",
       "</style>\n",
       "<table border=\"1\" class=\"dataframe\">\n",
       "  <thead>\n",
       "    <tr style=\"text-align: right;\">\n",
       "      <th></th>\n",
       "      <th>div</th>\n",
       "      <th>exp_price</th>\n",
       "    </tr>\n",
       "    <tr>\n",
       "      <th>Year</th>\n",
       "      <th></th>\n",
       "      <th></th>\n",
       "    </tr>\n",
       "  </thead>\n",
       "  <tbody>\n",
       "    <tr>\n",
       "      <th>1</th>\n",
       "      <td>3.0000</td>\n",
       "      <td>81.0000</td>\n",
       "    </tr>\n",
       "    <tr>\n",
       "      <th>2</th>\n",
       "      <td>3.2400</td>\n",
       "      <td>87.4800</td>\n",
       "    </tr>\n",
       "    <tr>\n",
       "      <th>3</th>\n",
       "      <td>3.4992</td>\n",
       "      <td>94.4784</td>\n",
       "    </tr>\n",
       "  </tbody>\n",
       "</table>\n",
       "</div>"
      ],
      "text/plain": [
       "         div  exp_price\n",
       "Year                   \n",
       "1     3.0000    81.0000\n",
       "2     3.2400    87.4800\n",
       "3     3.4992    94.4784"
      ]
     },
     "execution_count": 27,
     "metadata": {},
     "output_type": "execute_result"
    }
   ],
   "source": [
    "### Dividend Discounted Model - 3 year\n",
    "g = 0.08 ## growth\n",
    "er = 0.12 ## expected return \n",
    "p1 = 81 \n",
    "div = 3. \n",
    "\n",
    "# set-up holders\n",
    "horizon = pd.DataFrame({'div': np.zeros(3), 'exp_price': np.zeros(3)})\n",
    "horizon.index = np.arange(1, len(horizon) + 1) ## to count from 1 \n",
    "horizon.index.name = 'Year'\n",
    "\n",
    "# dividend model\n",
    "for year in horizon.index:\n",
    "    if year == 1: \n",
    "        horizon['div'][year] = div \n",
    "        horizon['exp_price'][year] = p1 \n",
    "    else:\n",
    "        horizon['div'][year] = div * (1+g)**(year-1)\n",
    "        horizon['exp_price'][year] = p1 * (1+g)**(year-1)\n",
    "        \n",
    "horizon"
   ]
  },
  {
   "cell_type": "code",
   "execution_count": 32,
   "metadata": {},
   "outputs": [
    {
     "name": "stdout",
     "output_type": "stream",
     "text": [
      "PV of Year 1: 74.99999999999999\n",
      "PV of Year 2: 74.99999999999999\n"
     ]
    }
   ],
   "source": [
    "## What it worth today?\n",
    "'''Dividend is every year cashflow, but expected price is nonly receivable at selling'''\n",
    "pv_1 = (horizon['div'][1] + horizon['exp_price'][1]) / (1+er)\n",
    "pv_2 = (horizon['div'][1] / (1+er)) + (horizon['div'][2] / (1+er)**2) + horizon['exp_price'][2] / (1+er)**2\n",
    "print('PV of Year 1: {}'.format(pv_1))\n",
    "print('PV of Year 2: {}'.format(pv_2))"
   ]
  },
  {
   "cell_type": "code",
   "execution_count": 33,
   "metadata": {},
   "outputs": [
    {
     "name": "stdout",
     "output_type": "stream",
     "text": [
      "PV of Constant growth model: 75.00000000000001\n"
     ]
    }
   ],
   "source": [
    "## Constant growth model \n",
    "print('PV of Constant growth model: {}'.format(div/(er-g)))"
   ]
  },
  {
   "cell_type": "code",
   "execution_count": 34,
   "metadata": {},
   "outputs": [
    {
     "data": {
      "text/plain": [
       "74.99999999999999"
      ]
     },
     "execution_count": 34,
     "metadata": {},
     "output_type": "execute_result"
    }
   ],
   "source": [
    "## No divideint\n",
    "eps = 5.6 ## earning\n",
    "pe = 15 ## price-to-earning\n",
    "er = .12\n",
    "\n",
    "pe * eps / (1+er)"
   ]
  },
  {
   "cell_type": "code",
   "execution_count": null,
   "metadata": {},
   "outputs": [],
   "source": []
  }
 ],
 "metadata": {
  "kernelspec": {
   "display_name": "Python 3",
   "language": "python",
   "name": "python3"
  },
  "language_info": {
   "codemirror_mode": {
    "name": "ipython",
    "version": 3
   },
   "file_extension": ".py",
   "mimetype": "text/x-python",
   "name": "python",
   "nbconvert_exporter": "python",
   "pygments_lexer": "ipython3",
   "version": "3.7.3"
  },
  "toc": {
   "base_numbering": 1,
   "nav_menu": {},
   "number_sections": true,
   "sideBar": false,
   "skip_h1_title": false,
   "title_cell": "Table of Contents",
   "title_sidebar": "Contents",
   "toc_cell": false,
   "toc_position": {
    "height": "821px",
    "left": "1276px",
    "top": "129px",
    "width": "384px"
   },
   "toc_section_display": true,
   "toc_window_display": true
  }
 },
 "nbformat": 4,
 "nbformat_minor": 2
}
